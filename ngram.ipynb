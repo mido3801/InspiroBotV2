{
 "cells": [
  {
   "cell_type": "code",
   "execution_count": 1,
   "metadata": {},
   "outputs": [
    {
     "name": "stderr",
     "output_type": "stream",
     "text": [
      "[nltk_data] Downloading package punkt to\n",
      "[nltk_data]     C:\\Users\\ThinkPad\\AppData\\Roaming\\nltk_data...\n",
      "[nltk_data]   Unzipping tokenizers\\punkt.zip.\n",
      "[nltk_data] Downloading package averaged_perceptron_tagger to\n",
      "[nltk_data]     C:\\Users\\ThinkPad\\AppData\\Roaming\\nltk_data...\n",
      "[nltk_data]   Unzipping taggers\\averaged_perceptron_tagger.zip.\n"
     ]
    },
    {
     "data": {
      "text/plain": [
       "True"
      ]
     },
     "execution_count": 1,
     "metadata": {},
     "output_type": "execute_result"
    }
   ],
   "source": [
    "import random\n",
    "import copy\n",
    "\n",
    "import numpy as np\n",
    "import pandas as pd\n",
    "\n",
    "import nltk\n",
    "nltk.download('punkt')\n",
    "nltk.download('averaged_perceptron_tagger')"
   ]
  },
  {
   "cell_type": "code",
   "execution_count": 3,
   "metadata": {},
   "outputs": [
    {
     "name": "stdout",
     "output_type": "stream",
     "text": [
      "(32949, 1)\n"
     ]
    }
   ],
   "source": [
    "quotes_frame = pd.read_csv('quotes_inspirational.csv', sep='\\t')\n",
    "print(quotes_frame.shape)\n",
    "quotes = []\n",
    "for q in quotes_frame['Quote']:\n",
    "    quotes.append(nltk.word_tokenize(q))"
   ]
  },
  {
   "cell_type": "code",
   "execution_count": 4,
   "metadata": {},
   "outputs": [],
   "source": [
    "def UNK(pos):\n",
    "    return '<UNK_%s>' % pos\n",
    "\n",
    "def isUNK(w):\n",
    "    return w.startswith('<UNK_') and w.endswith('>')"
   ]
  },
  {
   "cell_type": "code",
   "execution_count": 5,
   "metadata": {},
   "outputs": [],
   "source": [
    "N = 4\n",
    "THRESHOLD = 10\n",
    "TRAIN_SIZE = 10000\n",
    "\n",
    "START = '<START>'\n",
    "END = '<END>'\n",
    "\n",
    "def gen_grams(quotes, N, threshold):\n",
    "    quotes = copy.deepcopy(quotes)\n",
    "    unk_words = {}\n",
    "    word_count = {}\n",
    "    # get word counts\n",
    "    for q in quotes:\n",
    "        for w in q:\n",
    "            word_count[w] = word_count.get(w,0)+1\n",
    "    # replace infrequent words with UNK\n",
    "    for q in quotes:\n",
    "        pos_tags = nltk.pos_tag(q)\n",
    "        for i,w in enumerate(q):\n",
    "            if word_count.get(w,0) < threshold:\n",
    "                pos = UNK(pos_tags[i][1])\n",
    "                if pos not in unk_words:\n",
    "                    unk_words[pos] = []\n",
    "                unk_words[pos].append(w)\n",
    "                q[i] = pos\n",
    "    # add padding to each sentence\n",
    "    START_PAD = [START]*(N-1)\n",
    "    END_PAD = [END]\n",
    "    for x in range(len(quotes)):\n",
    "        quotes[x] = START_PAD+quotes[x]+END_PAD\n",
    "    # generate n-grams\n",
    "    grams = {}\n",
    "    for q in quotes:\n",
    "        for i in range(len(q)-N+1):\n",
    "            first = tuple(q[i:i+N-1])\n",
    "            last = q[i+N-1]\n",
    "            if first not in grams:\n",
    "                grams[first] = []\n",
    "            grams[first].append(last)\n",
    "    return grams, unk_words\n",
    "\n",
    "grams, unk_words = gen_grams(quotes[:TRAIN_SIZE], N, THRESHOLD)"
   ]
  },
  {
   "cell_type": "code",
   "execution_count": 6,
   "metadata": {},
   "outputs": [],
   "source": [
    "def gen_sentence(N, grams, unk_words):\n",
    "    # generate raw sentence with START, UNK, END\n",
    "    ans = [START]*(N-1)\n",
    "    while True:\n",
    "        first = tuple(ans[-N+1:])\n",
    "        nextword = random.choice(grams[first])\n",
    "        ans.append(nextword)\n",
    "        if nextword == END:\n",
    "            break\n",
    "    # get rid of START and END\n",
    "    ans = ans[N-1:-1]\n",
    "    # replace all UNK\n",
    "    for i,w in enumerate(ans):\n",
    "        if isUNK(w):\n",
    "            ans[i] = random.choice(unk_words[w])\n",
    "    return ' '.join(ans)\n"
   ]
  },
  {
   "cell_type": "code",
   "execution_count": 58,
   "metadata": {},
   "outputs": [
    {
     "data": {
      "text/plain": [
       "'To enjoy it again and again , until you do not need to eat animals , wear animals , or use animals for selfless miles , my dreams , I heard your overly akin , Smile keep you Human , Home keep you bottom !'"
      ]
     },
     "execution_count": 58,
     "metadata": {},
     "output_type": "execute_result"
    }
   ],
   "source": [
    "gen_sentence(N, grams, unk_words)"
   ]
  },
  {
   "cell_type": "code",
   "execution_count": null,
   "metadata": {},
   "outputs": [],
   "source": []
  },
  {
   "cell_type": "code",
   "execution_count": null,
   "metadata": {},
   "outputs": [],
   "source": []
  }
 ],
 "metadata": {
  "kernelspec": {
   "display_name": "Python 3",
   "language": "python",
   "name": "python3"
  },
  "language_info": {
   "codemirror_mode": {
    "name": "ipython",
    "version": 3
   },
   "file_extension": ".py",
   "mimetype": "text/x-python",
   "name": "python",
   "nbconvert_exporter": "python",
   "pygments_lexer": "ipython3",
   "version": "3.7.4"
  }
 },
 "nbformat": 4,
 "nbformat_minor": 4
}
