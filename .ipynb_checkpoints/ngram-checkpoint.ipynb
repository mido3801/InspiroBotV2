{
 "cells": [
  {
   "cell_type": "code",
   "execution_count": 1,
   "metadata": {},
   "outputs": [
    {
     "name": "stderr",
     "output_type": "stream",
     "text": [
      "[nltk_data] Downloading package punkt to\n",
      "[nltk_data]     C:\\Users\\ReggieTBT\\AppData\\Roaming\\nltk_data...\n",
      "[nltk_data]   Package punkt is already up-to-date!\n",
      "[nltk_data] Downloading package averaged_perceptron_tagger to\n",
      "[nltk_data]     C:\\Users\\ReggieTBT\\AppData\\Roaming\\nltk_data...\n",
      "[nltk_data]   Package averaged_perceptron_tagger is already up-to-\n",
      "[nltk_data]       date!\n"
     ]
    },
    {
     "data": {
      "text/plain": [
       "True"
      ]
     },
     "execution_count": 1,
     "metadata": {},
     "output_type": "execute_result"
    }
   ],
   "source": [
    "import random\n",
    "import copy\n",
    "\n",
    "import numpy as np\n",
    "import pandas as pd\n",
    "\n",
    "import nltk\n",
    "nltk.download('punkt')\n",
    "nltk.download('averaged_perceptron_tagger')"
   ]
  },
  {
   "cell_type": "code",
   "execution_count": 2,
   "metadata": {},
   "outputs": [
    {
     "name": "stdout",
     "output_type": "stream",
     "text": [
      "32850\n",
      "[\"You've gotta dance like there's nobody watching, Love like you'll never be hurt, Sing like there's nobody listening,And live like it's heaven on earth.\", 'Darkness cannot drive out darkness: only light can do that. Hate cannot drive out hate: only love can do that.', 'We accept the love we think we deserve.']\n"
     ]
    }
   ],
   "source": [
    "#change path to be specific to your file\n",
    "path = \"C:/CU FALL 2020/CSCI 4622/final/archive/quotes_inspirational.csv\"\n",
    "\n",
    "quotes_frame = pd.read_csv(path)\n",
    "\n",
    "quote_deduped = quotes_frame['Quote'].drop_duplicates()\n",
    "\n",
    "all_quotes = list(quote_deduped)\n",
    "print(len(all_quotes))\n",
    "print(all_quotes[:3])"
   ]
  },
  {
   "cell_type": "code",
   "execution_count": 3,
   "metadata": {},
   "outputs": [],
   "source": [
    "words = set(nltk.corpus.words.words())\n",
    "\n",
    "quotes_filtered = []\n",
    "quotes_len = []\n",
    "noneng = False\n",
    "\n",
    "for s in all_quotes:\n",
    "    noneng = False\n",
    "    \n",
    "    for w in nltk.wordpunct_tokenize(s):\n",
    "        if not (w.lower() in words or not w.isalpha()):\n",
    "            noneng = True\n",
    "    if not noneng:\n",
    "        quotes_filtered.append(s)\n",
    "        quotes_len.append(len(nltk.wordpunct_tokenize(s)))"
   ]
  },
  {
   "cell_type": "code",
   "execution_count": 4,
   "metadata": {},
   "outputs": [
    {
     "name": "stdout",
     "output_type": "stream",
     "text": [
      "[['Darkness', 'can', 'not', 'drive', 'out', 'darkness', ':', 'only', 'light', 'can', 'do', 'that', '.', 'Hate', 'can', 'not', 'drive', 'out', 'hate', ':', 'only', 'love', 'can', 'do', 'that', '.'], ['We', 'accept', 'the', 'love', 'we', 'think', 'we', 'deserve', '.'], ['The', 'opposite', 'of', 'love', 'is', 'not', 'hate', ',', 'it', \"'s\", 'indifference', '.', 'The', 'opposite', 'of', 'art', 'is', 'not', 'ugliness', ',', 'it', \"'s\", 'indifference', '.', 'The', 'opposite', 'of', 'faith', 'is', 'not', 'heresy', ',', 'it', \"'s\", 'indifference', '.', 'And', 'the', 'opposite', 'of', 'life', 'is', 'not', 'death', ',', 'it', \"'s\", 'indifference', '.'], ['I', 'was', 'smiling', 'yesterday', ',', 'I', 'am', 'smiling', 'today', 'and', 'I', 'will', 'smile', 'tomorrow.Simply', 'because', 'life', 'is', 'too', 'short', 'to', 'cry', 'for', 'anything', '.'], ['One', 'love', ',', 'one', 'heart', ',', 'one', 'destiny', '.']]\n"
     ]
    }
   ],
   "source": [
    "quotes = []\n",
    "for q in quotes_filtered:\n",
    "    quotes.append(nltk.word_tokenize(q))\n",
    "print(quotes[:5])"
   ]
  },
  {
   "cell_type": "code",
   "execution_count": 5,
   "metadata": {},
   "outputs": [],
   "source": [
    "def UNK(pos):\n",
    "    return '<UNK_%s>' % pos\n",
    "\n",
    "def isUNK(w):\n",
    "    return w.startswith('<UNK_') and w.endswith('>')"
   ]
  },
  {
   "cell_type": "code",
   "execution_count": 6,
   "metadata": {},
   "outputs": [],
   "source": [
    "N = 4\n",
    "THRESHOLD = 10\n",
    "TRAIN_SIZE = 10000\n",
    "\n",
    "START = '<START>'\n",
    "END = '<END>'\n",
    "\n",
    "def gen_grams(quotes, N, threshold):\n",
    "    quotes = copy.deepcopy(quotes)\n",
    "    unk_words = {}\n",
    "    word_count = {}\n",
    "    # get word counts\n",
    "    for q in quotes:\n",
    "        for w in q:\n",
    "            word_count[w] = word_count.get(w,0)+1\n",
    "    # replace infrequent words with UNK\n",
    "    for q in quotes:\n",
    "        pos_tags = nltk.pos_tag(q)\n",
    "        for i,w in enumerate(q):\n",
    "            if word_count.get(w,0) < threshold:\n",
    "                pos = UNK(pos_tags[i][1])\n",
    "                if pos not in unk_words:\n",
    "                    unk_words[pos] = []\n",
    "                unk_words[pos].append(w)\n",
    "                q[i] = pos\n",
    "    # add padding to each sentence\n",
    "    START_PAD = [START]*(N-1)\n",
    "    END_PAD = [END]\n",
    "    for x in range(len(quotes)):\n",
    "        quotes[x] = START_PAD+quotes[x]+END_PAD\n",
    "    # generate n-grams\n",
    "    grams = {}\n",
    "    for q in quotes:\n",
    "        for i in range(len(q)-N+1):\n",
    "            first = tuple(q[i:i+N-1])\n",
    "            last = q[i+N-1]\n",
    "            if first not in grams:\n",
    "                grams[first] = []\n",
    "            grams[first].append(last)\n",
    "    return grams, unk_words\n",
    "\n",
    "grams, unk_words = gen_grams(quotes[:TRAIN_SIZE], N, THRESHOLD)"
   ]
  },
  {
   "cell_type": "code",
   "execution_count": 7,
   "metadata": {},
   "outputs": [],
   "source": [
    "def gen_sentence(N, grams, unk_words):\n",
    "    # generate raw sentence with START, UNK, END\n",
    "    ans = [START]*(N-1)\n",
    "    while True:\n",
    "        first = tuple(ans[-N+1:])\n",
    "        nextword = random.choice(grams[first])\n",
    "        ans.append(nextword)\n",
    "        if nextword == END:\n",
    "            break\n",
    "    # get rid of START and END\n",
    "    ans = ans[N-1:-1]\n",
    "    # replace all UNK\n",
    "    for i,w in enumerate(ans):\n",
    "        if isUNK(w):\n",
    "            ans[i] = random.choice(unk_words[w])\n",
    "    return ' '.join(ans)\n"
   ]
  },
  {
   "cell_type": "code",
   "execution_count": 10,
   "metadata": {},
   "outputs": [
    {
     "data": {
      "text/plain": [
       "'It is better to accept the truth than a temporary lie .'"
      ]
     },
     "execution_count": 10,
     "metadata": {},
     "output_type": "execute_result"
    }
   ],
   "source": [
    "gen_sentence(N, grams, unk_words)"
   ]
  },
  {
   "cell_type": "code",
   "execution_count": null,
   "metadata": {},
   "outputs": [],
   "source": []
  },
  {
   "cell_type": "code",
   "execution_count": null,
   "metadata": {},
   "outputs": [],
   "source": []
  }
 ],
 "metadata": {
  "kernelspec": {
   "display_name": "Python 3",
   "language": "python",
   "name": "python3"
  },
  "language_info": {
   "codemirror_mode": {
    "name": "ipython",
    "version": 3
   },
   "file_extension": ".py",
   "mimetype": "text/x-python",
   "name": "python",
   "nbconvert_exporter": "python",
   "pygments_lexer": "ipython3",
   "version": "3.7.6"
  }
 },
 "nbformat": 4,
 "nbformat_minor": 4
}
